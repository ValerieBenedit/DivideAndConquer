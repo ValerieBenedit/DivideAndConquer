{
 "cells": [
  {
   "attachments": {},
   "cell_type": "markdown",
   "metadata": {},
   "source": [
    "#### Valerie Daniela Benedit | 6106442\n",
    "#### Dr. Xian Su\n",
    "#### April 14, 2025\n",
    "### Maximum Subarray Sum (Stock Profit Analysis)"
   ]
  },
  {
   "attachments": {},
   "cell_type": "markdown",
   "metadata": {},
   "source": [
    "You’re analyzing stock profits: you have a numerical array (some values positive, some negative),\n",
    "each representing daily (or segment) gain/loss. You want the contiguous subarray that yields the\n",
    "largest sum—a “best buy-sell interval.”\n",
    "While Kadane’s algorithm solves it in O(n), this task specifically asks for a divide-and-\n",
    "conquer approach.\n"
   ]
  },
  {
   "cell_type": "code",
   "execution_count": 1,
   "metadata": {},
   "outputs": [],
   "source": [
    "def max_crossing_sum(arr, left, mid, right):\n",
    "    # Include elements on left of mid\n",
    "    left_sum = float('-inf')\n",
    "    total = 0\n",
    "    for i in range(mid, left - 1, -1):\n",
    "        total += arr[i]\n",
    "        if total > left_sum:\n",
    "            left_sum = total\n",
    "\n",
    "    # Include elements on right of mid\n",
    "    right_sum = float('-inf')\n",
    "    total = 0\n",
    "    for i in range(mid + 1, right + 1):\n",
    "        total += arr[i]\n",
    "        if total > right_sum:\n",
    "            right_sum = total\n",
    "\n",
    "    return left_sum + right_sum\n",
    "\n",
    "def max_subarray_sum(arr, left, right):\n",
    "    # Base case: only one element\n",
    "    if left == right:\n",
    "        return arr[left]\n",
    "\n",
    "    mid = (left + right) // 2\n",
    "\n",
    "    # Recur for left, right and cross sums\n",
    "    left_max = max_subarray_sum(arr, left, mid)\n",
    "    right_max = max_subarray_sum(arr, mid + 1, right)\n",
    "    cross_max = max_crossing_sum(arr, left, mid, right)\n",
    "\n",
    "    return max(left_max, right_max, cross_max)\n",
    "\n",
    "def find_max_subarray(arr):\n",
    "    if not arr:\n",
    "        return 0\n",
    "    return max_subarray_sum(arr, 0, len(arr) - 1)"
   ]
  },
  {
   "attachments": {},
   "cell_type": "markdown",
   "metadata": {},
   "source": [
    "### Test Case:"
   ]
  },
  {
   "cell_type": "code",
   "execution_count": null,
   "metadata": {},
   "outputs": [],
   "source": [
    "arr = [-4, 5, 6, -9, 12, -3, 15, -2]"
   ]
  },
  {
   "attachments": {},
   "cell_type": "markdown",
   "metadata": {},
   "source": [
    "### Complexity Analysis:"
   ]
  },
  {
   "cell_type": "markdown",
   "metadata": {},
   "source": []
  },
  {
   "cell_type": "code",
   "execution_count": null,
   "metadata": {},
   "outputs": [],
   "source": []
  }
 ],
 "metadata": {
  "kernelspec": {
   "display_name": "Python 3",
   "language": "python",
   "name": "python3"
  },
  "language_info": {
   "codemirror_mode": {
    "name": "ipython",
    "version": 3
   },
   "file_extension": ".py",
   "mimetype": "text/x-python",
   "name": "python",
   "nbconvert_exporter": "python",
   "pygments_lexer": "ipython3",
   "version": "3.11.8 (main, Dec  8 2024, 13:40:51) [Clang 15.0.0 (clang-1500.3.9.4)]"
  },
  "orig_nbformat": 4,
  "vscode": {
   "interpreter": {
    "hash": "b41970721bc5cc11c86095598842d29ec62bd5eb8ff30856033b74c7e679c087"
   }
  }
 },
 "nbformat": 4,
 "nbformat_minor": 2
}
