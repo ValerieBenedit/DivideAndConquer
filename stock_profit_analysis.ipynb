{
 "cells": [
  {
   "cell_type": "code",
   "execution_count": null,
   "metadata": {},
   "outputs": [],
   "source": []
  },
  {
   "attachments": {},
   "cell_type": "markdown",
   "metadata": {},
   "source": [
    "#### Valerie Daniela Benedit | 6106442\n",
    "#### Dr. Xian Su\n",
    "#### April 14, 2025\n",
    "### Maximum Subarray Sum (Stock Profit Analysis)"
   ]
  },
  {
   "attachments": {},
   "cell_type": "markdown",
   "metadata": {},
   "source": [
    "You’re analyzing stock profits: you have a numerical array (some values positive, some negative),\n",
    "each representing daily (or segment) gain/loss. You want the contiguous subarray that yields the\n",
    "largest sum—a “best buy-sell interval.”\n",
    "While Kadane’s algorithm solves it in O(n), this task specifically asks for a divide-and-\n",
    "conquer approach.\n"
   ]
  },
  {
   "attachments": {},
   "cell_type": "markdown",
   "metadata": {},
   "source": [
    "### Base Case:"
   ]
  },
  {
   "cell_type": "code",
   "execution_count": null,
   "metadata": {},
   "outputs": [],
   "source": []
  },
  {
   "attachments": {},
   "cell_type": "markdown",
   "metadata": {},
   "source": [
    "### Recusive Case:"
   ]
  },
  {
   "cell_type": "code",
   "execution_count": null,
   "metadata": {},
   "outputs": [],
   "source": []
  },
  {
   "attachments": {},
   "cell_type": "markdown",
   "metadata": {},
   "source": [
    "### Conquer Case:"
   ]
  },
  {
   "cell_type": "code",
   "execution_count": null,
   "metadata": {},
   "outputs": [],
   "source": []
  },
  {
   "attachments": {},
   "cell_type": "markdown",
   "metadata": {},
   "source": [
    "### Complexity Analysis:"
   ]
  }
 ],
 "metadata": {
  "kernelspec": {
   "display_name": "Python 3",
   "language": "python",
   "name": "python3"
  },
  "language_info": {
   "name": "python",
   "version": "3.11.8 (main, Dec  8 2024, 13:40:51) [Clang 15.0.0 (clang-1500.3.9.4)]"
  },
  "orig_nbformat": 4,
  "vscode": {
   "interpreter": {
    "hash": "b41970721bc5cc11c86095598842d29ec62bd5eb8ff30856033b74c7e679c087"
   }
  }
 },
 "nbformat": 4,
 "nbformat_minor": 2
}
